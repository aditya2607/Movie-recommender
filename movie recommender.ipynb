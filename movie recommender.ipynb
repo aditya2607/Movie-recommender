{
 "cells": [
  {
   "cell_type": "code",
   "execution_count": 4,
   "metadata": {},
   "outputs": [],
   "source": [
    "%matplotlib inline\n",
    "import pandas as pd\n",
    "import numpy as np\n",
    "from surprise import Reader, Dataset, SVD, evaluate\n",
    "\n",
    "import warnings; warnings.simplefilter('ignore')"
   ]
  },
  {
   "cell_type": "markdown",
   "metadata": {},
   "source": [
    "### Loading Dataset"
   ]
  },
  {
   "cell_type": "code",
   "execution_count": 5,
   "metadata": {},
   "outputs": [
    {
     "data": {
      "text/html": [
       "<div>\n",
       "<style scoped>\n",
       "    .dataframe tbody tr th:only-of-type {\n",
       "        vertical-align: middle;\n",
       "    }\n",
       "\n",
       "    .dataframe tbody tr th {\n",
       "        vertical-align: top;\n",
       "    }\n",
       "\n",
       "    .dataframe thead th {\n",
       "        text-align: right;\n",
       "    }\n",
       "</style>\n",
       "<table border=\"1\" class=\"dataframe\">\n",
       "  <thead>\n",
       "    <tr style=\"text-align: right;\">\n",
       "      <th></th>\n",
       "      <th>title</th>\n",
       "      <th>genres</th>\n",
       "    </tr>\n",
       "    <tr>\n",
       "      <th>id</th>\n",
       "      <th></th>\n",
       "      <th></th>\n",
       "    </tr>\n",
       "  </thead>\n",
       "  <tbody>\n",
       "    <tr>\n",
       "      <th>1</th>\n",
       "      <td>Toy Story (1995)</td>\n",
       "      <td>Animation|Children's|Comedy</td>\n",
       "    </tr>\n",
       "    <tr>\n",
       "      <th>2</th>\n",
       "      <td>Jumanji (1995)</td>\n",
       "      <td>Adventure|Children's|Fantasy</td>\n",
       "    </tr>\n",
       "    <tr>\n",
       "      <th>3</th>\n",
       "      <td>Grumpier Old Men (1995)</td>\n",
       "      <td>Comedy|Romance</td>\n",
       "    </tr>\n",
       "    <tr>\n",
       "      <th>4</th>\n",
       "      <td>Waiting to Exhale (1995)</td>\n",
       "      <td>Comedy|Drama</td>\n",
       "    </tr>\n",
       "    <tr>\n",
       "      <th>5</th>\n",
       "      <td>Father of the Bride Part II (1995)</td>\n",
       "      <td>Comedy</td>\n",
       "    </tr>\n",
       "  </tbody>\n",
       "</table>\n",
       "</div>"
      ],
      "text/plain": [
       "                                 title                        genres\n",
       "id                                                                  \n",
       "1                     Toy Story (1995)   Animation|Children's|Comedy\n",
       "2                       Jumanji (1995)  Adventure|Children's|Fantasy\n",
       "3              Grumpier Old Men (1995)                Comedy|Romance\n",
       "4             Waiting to Exhale (1995)                  Comedy|Drama\n",
       "5   Father of the Bride Part II (1995)                        Comedy"
      ]
     },
     "execution_count": 5,
     "metadata": {},
     "output_type": "execute_result"
    }
   ],
   "source": [
    "md=pd.read_csv('data/movies.dat',sep=\"::\",header=None,names=['id','title','genres'],index_col='id')\n",
    "md.head()"
   ]
  },
  {
   "cell_type": "code",
   "execution_count": 6,
   "metadata": {},
   "outputs": [],
   "source": [
    "full_ratings=pd.read_csv('data/ratings.dat',sep=\"::\",header=None,names=['user_id','movie_id','stars','timestamp'])"
   ]
  },
  {
   "cell_type": "code",
   "execution_count": 7,
   "metadata": {},
   "outputs": [],
   "source": [
    "md['genres']=md['genres'].fillna('[]').apply(lambda x : x.split(sep='|'))"
   ]
  },
  {
   "cell_type": "markdown",
   "metadata": {},
   "source": [
    "### Spliting into trainset and testset"
   ]
  },
  {
   "cell_type": "code",
   "execution_count": 8,
   "metadata": {},
   "outputs": [],
   "source": [
    "train_ratings=full_ratings[full_ratings['user_id']<6030]"
   ]
  },
  {
   "cell_type": "code",
   "execution_count": 9,
   "metadata": {},
   "outputs": [],
   "source": [
    "test_ratings=full_ratings[full_ratings['user_id']>6029]"
   ]
  },
  {
   "cell_type": "code",
   "execution_count": 10,
   "metadata": {},
   "outputs": [],
   "source": [
    "reader=Reader()"
   ]
  },
  {
   "cell_type": "markdown",
   "metadata": {},
   "source": [
    "Here we will split data into n folds for cross validation"
   ]
  },
  {
   "cell_type": "code",
   "execution_count": 11,
   "metadata": {},
   "outputs": [],
   "source": [
    "data = Dataset.load_from_df(train_ratings[['user_id', 'movie_id', 'stars']], reader)\n",
    "data.split(n_folds=5)"
   ]
  },
  {
   "cell_type": "markdown",
   "metadata": {},
   "source": [
    "Loading Single Value Decomposition Model"
   ]
  },
  {
   "cell_type": "code",
   "execution_count": 12,
   "metadata": {},
   "outputs": [
    {
     "name": "stdout",
     "output_type": "stream",
     "text": [
      "Evaluating RMSE, MAE of algorithm SVD.\n",
      "\n",
      "------------\n",
      "Fold 1\n",
      "RMSE: 0.8738\n",
      "MAE:  0.6852\n",
      "------------\n",
      "Fold 2\n",
      "RMSE: 0.8770\n",
      "MAE:  0.6881\n",
      "------------\n",
      "Fold 3\n",
      "RMSE: 0.8722\n",
      "MAE:  0.6848\n",
      "------------\n",
      "Fold 4\n",
      "RMSE: 0.8724\n",
      "MAE:  0.6851\n",
      "------------\n",
      "Fold 5\n",
      "RMSE: 0.8750\n",
      "MAE:  0.6863\n",
      "------------\n",
      "------------\n",
      "Mean RMSE: 0.8741\n",
      "Mean MAE : 0.6859\n",
      "------------\n",
      "------------\n"
     ]
    },
    {
     "data": {
      "text/plain": [
       "CaseInsensitiveDefaultDict(list,\n",
       "                           {'rmse': [0.873776494121988,\n",
       "                             0.8770076218138065,\n",
       "                             0.8721562473763003,\n",
       "                             0.8724106311458024,\n",
       "                             0.8749977111557727],\n",
       "                            'mae': [0.6851812054880649,\n",
       "                             0.6881366058748285,\n",
       "                             0.6848222166691932,\n",
       "                             0.685104961126699,\n",
       "                             0.6863256256401152]})"
      ]
     },
     "execution_count": 12,
     "metadata": {},
     "output_type": "execute_result"
    }
   ],
   "source": [
    "svd=SVD()\n",
    "evaluate(svd, data, measures=['RMSE', 'MAE'])"
   ]
  },
  {
   "cell_type": "markdown",
   "metadata": {},
   "source": [
    "Applying on trainset"
   ]
  },
  {
   "cell_type": "code",
   "execution_count": 13,
   "metadata": {},
   "outputs": [
    {
     "data": {
      "text/plain": [
       "<surprise.prediction_algorithms.matrix_factorization.SVD at 0x1788be80240>"
      ]
     },
     "execution_count": 13,
     "metadata": {},
     "output_type": "execute_result"
    }
   ],
   "source": [
    "trainset = data.build_full_trainset()\n",
    "svd.train(trainset)"
   ]
  },
  {
   "cell_type": "markdown",
   "metadata": {},
   "source": [
    "### Prediction"
   ]
  },
  {
   "cell_type": "code",
   "execution_count": 14,
   "metadata": {},
   "outputs": [
    {
     "name": "stdout",
     "output_type": "stream",
     "text": [
      "approx. error: 0.5910606060606063   for user:  5\n"
     ]
    }
   ],
   "source": [
    "##To predict rating for a particular user\n",
    "uid=5\n",
    "preds=[]\n",
    "row_list=[]\n",
    "sum_e=0\n",
    "single_user=full_ratings[full_ratings['user_id']==uid]\n",
    "for j in single_user['movie_id']:\n",
    "        preds.append(round(svd.predict(uid,j).est,2))\n",
    "# t=md['title'].iloc[single_user['movie_id'].iloc[5]]\n",
    "for i in range(len(preds)):\n",
    "    err=round(abs(preds[i]-single_user['stars'].iloc[i]),2)\n",
    "    sum_e=sum_e+err\n",
    "    t=md['title'].iloc[single_user['movie_id'].iloc[i]]\n",
    "    dict1={'title':t,'predicted':preds[i],'actual':single_user['stars'].iloc[i],'difference':err}\n",
    "    row_list.append(dict1)\n",
    "    \n",
    "print(\"approx. error:\",sum_e/len(preds),\"  for user: \",uid )"
   ]
  },
  {
   "cell_type": "code",
   "execution_count": 15,
   "metadata": {},
   "outputs": [
    {
     "data": {
      "text/html": [
       "<div>\n",
       "<style scoped>\n",
       "    .dataframe tbody tr th:only-of-type {\n",
       "        vertical-align: middle;\n",
       "    }\n",
       "\n",
       "    .dataframe tbody tr th {\n",
       "        vertical-align: top;\n",
       "    }\n",
       "\n",
       "    .dataframe thead th {\n",
       "        text-align: right;\n",
       "    }\n",
       "</style>\n",
       "<table border=\"1\" class=\"dataframe\">\n",
       "  <thead>\n",
       "    <tr style=\"text-align: right;\">\n",
       "      <th></th>\n",
       "      <th>title</th>\n",
       "      <th>actual</th>\n",
       "      <th>predicted</th>\n",
       "      <th>difference</th>\n",
       "    </tr>\n",
       "  </thead>\n",
       "  <tbody>\n",
       "    <tr>\n",
       "      <th>0</th>\n",
       "      <td>Oxygen (1999)</td>\n",
       "      <td>4</td>\n",
       "      <td>3.57</td>\n",
       "      <td>0.43</td>\n",
       "    </tr>\n",
       "    <tr>\n",
       "      <th>1</th>\n",
       "      <td>Rambo: First Blood Part II (1985)</td>\n",
       "      <td>4</td>\n",
       "      <td>3.57</td>\n",
       "      <td>0.43</td>\n",
       "    </tr>\n",
       "    <tr>\n",
       "      <th>2</th>\n",
       "      <td>Paris Is Burning (1990)</td>\n",
       "      <td>5</td>\n",
       "      <td>4.44</td>\n",
       "      <td>0.56</td>\n",
       "    </tr>\n",
       "    <tr>\n",
       "      <th>3</th>\n",
       "      <td>Cry, the Beloved Country (1995)</td>\n",
       "      <td>3</td>\n",
       "      <td>3.40</td>\n",
       "      <td>0.40</td>\n",
       "    </tr>\n",
       "    <tr>\n",
       "      <th>4</th>\n",
       "      <td>Poison Ivy II (1995)</td>\n",
       "      <td>2</td>\n",
       "      <td>2.99</td>\n",
       "      <td>0.99</td>\n",
       "    </tr>\n",
       "    <tr>\n",
       "      <th>5</th>\n",
       "      <td>Romancing the Stone (1984)</td>\n",
       "      <td>5</td>\n",
       "      <td>3.36</td>\n",
       "      <td>1.64</td>\n",
       "    </tr>\n",
       "    <tr>\n",
       "      <th>6</th>\n",
       "      <td>Gabbeh (1996)</td>\n",
       "      <td>4</td>\n",
       "      <td>2.95</td>\n",
       "      <td>1.05</td>\n",
       "    </tr>\n",
       "    <tr>\n",
       "      <th>7</th>\n",
       "      <td>Thieves (Voleurs, Les) (1996)</td>\n",
       "      <td>4</td>\n",
       "      <td>3.50</td>\n",
       "      <td>0.50</td>\n",
       "    </tr>\n",
       "    <tr>\n",
       "      <th>8</th>\n",
       "      <td>Velvet Goldmine (1998)</td>\n",
       "      <td>2</td>\n",
       "      <td>2.07</td>\n",
       "      <td>0.07</td>\n",
       "    </tr>\n",
       "    <tr>\n",
       "      <th>9</th>\n",
       "      <td>Inventing the Abbotts (1997)</td>\n",
       "      <td>3</td>\n",
       "      <td>3.00</td>\n",
       "      <td>0.00</td>\n",
       "    </tr>\n",
       "    <tr>\n",
       "      <th>10</th>\n",
       "      <td>Lover's Knot (1996)</td>\n",
       "      <td>2</td>\n",
       "      <td>2.78</td>\n",
       "      <td>0.78</td>\n",
       "    </tr>\n",
       "    <tr>\n",
       "      <th>11</th>\n",
       "      <td>Big Lebowski, The (1998)</td>\n",
       "      <td>3</td>\n",
       "      <td>3.17</td>\n",
       "      <td>0.17</td>\n",
       "    </tr>\n",
       "    <tr>\n",
       "      <th>12</th>\n",
       "      <td>Girls Town (1996)</td>\n",
       "      <td>4</td>\n",
       "      <td>3.33</td>\n",
       "      <td>0.67</td>\n",
       "    </tr>\n",
       "    <tr>\n",
       "      <th>13</th>\n",
       "      <td>Afterglow (1997)</td>\n",
       "      <td>3</td>\n",
       "      <td>3.03</td>\n",
       "      <td>0.03</td>\n",
       "    </tr>\n",
       "    <tr>\n",
       "      <th>14</th>\n",
       "      <td>Robocop (1987)</td>\n",
       "      <td>1</td>\n",
       "      <td>2.40</td>\n",
       "      <td>1.40</td>\n",
       "    </tr>\n",
       "    <tr>\n",
       "      <th>15</th>\n",
       "      <td>West Beirut (West Beyrouth) (1998)</td>\n",
       "      <td>4</td>\n",
       "      <td>3.57</td>\n",
       "      <td>0.43</td>\n",
       "    </tr>\n",
       "    <tr>\n",
       "      <th>16</th>\n",
       "      <td>Babysitter, The (1995)</td>\n",
       "      <td>3</td>\n",
       "      <td>3.14</td>\n",
       "      <td>0.14</td>\n",
       "    </tr>\n",
       "    <tr>\n",
       "      <th>17</th>\n",
       "      <td>Barney's Great Adventure (1998)</td>\n",
       "      <td>4</td>\n",
       "      <td>3.50</td>\n",
       "      <td>0.50</td>\n",
       "    </tr>\n",
       "    <tr>\n",
       "      <th>18</th>\n",
       "      <td>North (1994)</td>\n",
       "      <td>1</td>\n",
       "      <td>2.74</td>\n",
       "      <td>1.74</td>\n",
       "    </tr>\n",
       "    <tr>\n",
       "      <th>19</th>\n",
       "      <td>Running Free (2000)</td>\n",
       "      <td>2</td>\n",
       "      <td>2.54</td>\n",
       "      <td>0.54</td>\n",
       "    </tr>\n",
       "    <tr>\n",
       "      <th>20</th>\n",
       "      <td>Poetic Justice (1993)</td>\n",
       "      <td>4</td>\n",
       "      <td>3.65</td>\n",
       "      <td>0.35</td>\n",
       "    </tr>\n",
       "    <tr>\n",
       "      <th>21</th>\n",
       "      <td>Back to the Future (1985)</td>\n",
       "      <td>5</td>\n",
       "      <td>3.65</td>\n",
       "      <td>1.35</td>\n",
       "    </tr>\n",
       "    <tr>\n",
       "      <th>22</th>\n",
       "      <td>Cell, The (2000)</td>\n",
       "      <td>2</td>\n",
       "      <td>2.92</td>\n",
       "      <td>0.92</td>\n",
       "    </tr>\n",
       "    <tr>\n",
       "      <th>23</th>\n",
       "      <td>Radioland Murders (1994)</td>\n",
       "      <td>4</td>\n",
       "      <td>2.90</td>\n",
       "      <td>1.10</td>\n",
       "    </tr>\n",
       "    <tr>\n",
       "      <th>24</th>\n",
       "      <td>Dead Presidents (1995)</td>\n",
       "      <td>4</td>\n",
       "      <td>3.88</td>\n",
       "      <td>0.12</td>\n",
       "    </tr>\n",
       "  </tbody>\n",
       "</table>\n",
       "</div>"
      ],
      "text/plain": [
       "                                 title  actual  predicted  difference\n",
       "0                        Oxygen (1999)       4       3.57        0.43\n",
       "1    Rambo: First Blood Part II (1985)       4       3.57        0.43\n",
       "2              Paris Is Burning (1990)       5       4.44        0.56\n",
       "3      Cry, the Beloved Country (1995)       3       3.40        0.40\n",
       "4                 Poison Ivy II (1995)       2       2.99        0.99\n",
       "5           Romancing the Stone (1984)       5       3.36        1.64\n",
       "6                        Gabbeh (1996)       4       2.95        1.05\n",
       "7        Thieves (Voleurs, Les) (1996)       4       3.50        0.50\n",
       "8               Velvet Goldmine (1998)       2       2.07        0.07\n",
       "9         Inventing the Abbotts (1997)       3       3.00        0.00\n",
       "10                 Lover's Knot (1996)       2       2.78        0.78\n",
       "11            Big Lebowski, The (1998)       3       3.17        0.17\n",
       "12                   Girls Town (1996)       4       3.33        0.67\n",
       "13                    Afterglow (1997)       3       3.03        0.03\n",
       "14                      Robocop (1987)       1       2.40        1.40\n",
       "15  West Beirut (West Beyrouth) (1998)       4       3.57        0.43\n",
       "16              Babysitter, The (1995)       3       3.14        0.14\n",
       "17     Barney's Great Adventure (1998)       4       3.50        0.50\n",
       "18                        North (1994)       1       2.74        1.74\n",
       "19                 Running Free (2000)       2       2.54        0.54\n",
       "20               Poetic Justice (1993)       4       3.65        0.35\n",
       "21           Back to the Future (1985)       5       3.65        1.35\n",
       "22                    Cell, The (2000)       2       2.92        0.92\n",
       "23            Radioland Murders (1994)       4       2.90        1.10\n",
       "24              Dead Presidents (1995)       4       3.88        0.12"
      ]
     },
     "execution_count": 15,
     "metadata": {},
     "output_type": "execute_result"
    }
   ],
   "source": [
    "pd.DataFrame(row_list,columns=['title','actual','predicted','difference'])[:25]"
   ]
  },
  {
   "cell_type": "code",
   "execution_count": 16,
   "metadata": {},
   "outputs": [],
   "source": [
    "##To calculate error of all users\n",
    "all_error=[]\n",
    "for k in range(1,6000):\n",
    "    preds=[]\n",
    "    uid=k\n",
    "    single_user=full_ratings[full_ratings['user_id'] == uid]\n",
    "    for j in single_user['movie_id']:\n",
    "        preds.append(round(svd.predict(uid,j).est,2))\n",
    "    sum_e=0\n",
    "    row_list=[]\n",
    "    for i in range(len(preds)):\n",
    "        err=round(abs(preds[i]-single_user['stars'].iloc[i]),2)\n",
    "        sum_e=sum_e+err\n",
    "    all_error.append(sum_e/len(preds))\n",
    "#     print(\"approx. error:\",s/len(preds),\"  for user: \",k )"
   ]
  },
  {
   "cell_type": "code",
   "execution_count": 18,
   "metadata": {},
   "outputs": [
    {
     "data": {
      "text/plain": [
       "1.2311111111111108"
      ]
     },
     "execution_count": 18,
     "metadata": {},
     "output_type": "execute_result"
    }
   ],
   "source": [
    "max(all_error)"
   ]
  },
  {
   "cell_type": "code",
   "execution_count": 19,
   "metadata": {},
   "outputs": [
    {
     "data": {
      "text/plain": [
       "Prediction(uid=6, iid=2406, r_ui=None, est=3.995279106775284, details={'was_impossible': False})"
      ]
     },
     "execution_count": 19,
     "metadata": {},
     "output_type": "execute_result"
    }
   ],
   "source": [
    "svd.predict(6,2406)"
   ]
  }
 ],
 "metadata": {
  "kernelspec": {
   "display_name": "Python 3",
   "language": "python",
   "name": "python3"
  },
  "language_info": {
   "codemirror_mode": {
    "name": "ipython",
    "version": 3
   },
   "file_extension": ".py",
   "mimetype": "text/x-python",
   "name": "python",
   "nbconvert_exporter": "python",
   "pygments_lexer": "ipython3",
   "version": "3.7.2"
  }
 },
 "nbformat": 4,
 "nbformat_minor": 2
}
